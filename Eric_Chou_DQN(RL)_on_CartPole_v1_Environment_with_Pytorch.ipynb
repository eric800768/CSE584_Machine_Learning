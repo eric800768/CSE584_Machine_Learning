{
  "cells": [
    {
      "cell_type": "markdown",
      "metadata": {
        "id": "9WBp9v-EQptu"
      },
      "source": [
        "# DQN in CartPole-v1 environments"
      ]
    },
    {
      "cell_type": "markdown",
      "metadata": {
        "id": "hVSZsIidjUL-"
      },
      "source": [
        "**Install Required Packages & Set Up the CartPole-v1 Environment**"
      ]
    },
    {
      "cell_type": "code",
      "execution_count": 10,
      "metadata": {
        "colab": {
          "base_uri": "https://localhost:8080/"
        },
        "id": "znMCp7gY0tcH",
        "outputId": "f743a584-88c5-4bcb-fae6-6fe9cef62043"
      },
      "outputs": [
        {
          "name": "stdout",
          "output_type": "stream",
          "text": [
            "Requirement already satisfied: gymnasium[classic_control] in /usr/local/lib/python3.10/dist-packages (1.0.0)\n",
            "Requirement already satisfied: numpy>=1.21.0 in /usr/local/lib/python3.10/dist-packages (from gymnasium[classic_control]) (1.26.4)\n",
            "Requirement already satisfied: cloudpickle>=1.2.0 in /usr/local/lib/python3.10/dist-packages (from gymnasium[classic_control]) (3.1.0)\n",
            "Requirement already satisfied: typing-extensions>=4.3.0 in /usr/local/lib/python3.10/dist-packages (from gymnasium[classic_control]) (4.12.2)\n",
            "Requirement already satisfied: farama-notifications>=0.0.1 in /usr/local/lib/python3.10/dist-packages (from gymnasium[classic_control]) (0.0.4)\n",
            "Requirement already satisfied: pygame>=2.1.3 in /usr/local/lib/python3.10/dist-packages (from gymnasium[classic_control]) (2.6.1)\n"
          ]
        }
      ],
      "source": [
        "#Install Required Packages\n",
        "!pip3 install gymnasium[classic_control]"
      ]
    },
    {
      "cell_type": "code",
      "execution_count": 11,
      "metadata": {
        "id": "gactMExMydcU"
      },
      "outputs": [],
      "source": [
        "#Import required modules\n",
        "import gymnasium as gym\n",
        "import math\n",
        "import random\n",
        "import matplotlib\n",
        "import matplotlib.pyplot as plt\n",
        "import numpy as np\n",
        "\n",
        "#Import necessary classes and function\n",
        "from collections import namedtuple, deque\n",
        "from itertools import count\n",
        "\n",
        "#Import PyTorch modules\n",
        "import torch\n",
        "import torch.nn as nn\n",
        "import torch.optim as optim\n",
        "import torch.nn.functional as F\n",
        "\n",
        "#Creating CartPole-v1 environment\n",
        "env = gym.make(\"CartPole-v1\")\n",
        "\n",
        "#Set up matplotlib\n",
        "is_ipython = 'inline' in matplotlib.get_backend()\n",
        "if is_ipython:\n",
        "    from IPython import display\n",
        "\n",
        "#Turn on interactive mode\n",
        "plt.ion()\n",
        "\n",
        "#if GPU is to be used\n",
        "device = torch.device(\n",
        "    \"cuda\" if torch.cuda.is_available() else\n",
        "    \"mps\" if torch.backends.mps.is_available() else\n",
        "    \"cpu\"\n",
        ")"
      ]
    },
    {
      "cell_type": "markdown",
      "metadata": {
        "id": "6xdRfB6bRCnl"
      },
      "source": [
        "**Memory: Save the data to reuse later**"
      ]
    },
    {
      "cell_type": "code",
      "execution_count": 12,
      "metadata": {
        "id": "cs5wN2wi1Hii"
      },
      "outputs": [],
      "source": [
        "Transition = namedtuple('Transition',\n",
        "                        ('state', 'action', 'next_state', 'reward'))\n",
        "\n",
        "#Store past experiences for training\n",
        "class ReplayMemory(object):\n",
        "\n",
        "    def __init__(self, capacity):\n",
        "        #Initialize a deque to store experience tuples with a fixed capacity\n",
        "        self.memory = deque([], maxlen=capacity)\n",
        "\n",
        "    def push(self, *args):\n",
        "        #Save a transition to memory\n",
        "        self.memory.append(Transition(*args))\n",
        "\n",
        "    def sample(self, batch_size):\n",
        "        #Randomly sample a batch of experiences from memory\n",
        "        return random.sample(self.memory, batch_size)\n",
        "\n",
        "    def __len__(self):\n",
        "        #Return the current size of the memory\n",
        "        return len(self.memory)"
      ]
    },
    {
      "cell_type": "markdown",
      "metadata": {
        "id": "WiXMsahjRHMi"
      },
      "source": [
        "**Define the Neural Network Architectures and Implement the DQN Algorithm**"
      ]
    },
    {
      "cell_type": "code",
      "execution_count": 13,
      "metadata": {
        "id": "2Lb34dH11LWf"
      },
      "outputs": [],
      "source": [
        "#Define a Deep Q-Network\n",
        "class DQN(nn.Module):\n",
        "\n",
        "    #Constructor to initialize the network layers\n",
        "    def __init__(self, n_observations, n_actions):\n",
        "        super(DQN, self).__init__()\n",
        "\n",
        "        #Defining the first fully connected layer with 128 units\n",
        "        self.layer1 = nn.Linear(n_observations, 128)\n",
        "        #Defining the second fully connected layer with 128 units\n",
        "        self.layer2 = nn.Linear(128, 128)\n",
        "        #Defining the output layer with 'n_actions' units for each action\n",
        "        self.layer3 = nn.Linear(128, n_actions)\n",
        "\n",
        "    #Forward pass through the network\n",
        "    def forward(self, x):\n",
        "        #Apply ReLU activation to the output of the first layer\n",
        "        x = F.relu(self.layer1(x))\n",
        "        #Apply ReLU activation to the output of the second layer\n",
        "        x = F.relu(self.layer2(x))\n",
        "        #No activation on the output layer to get action values\n",
        "        return self.layer3(x)"
      ]
    },
    {
      "cell_type": "markdown",
      "metadata": {
        "id": "NKuaFgF8RNBg"
      },
      "source": [
        "**Train the DQN Agent and Plot the result**"
      ]
    },
    {
      "cell_type": "code",
      "execution_count": 14,
      "metadata": {
        "id": "M8SvMA2g1Skj"
      },
      "outputs": [],
      "source": [
        "#Setting up hyperparameters\n",
        "\n",
        "BATCH_SIZE = 128   #BATCH_SIZE is the number of transitions sampled from the replay buffer\n",
        "GAMMA = 0.99       #GAMMA is the discount factor as mentioned in the previous section\n",
        "EPS_START = 0.9    #EPS_START is the starting value of epsilon\n",
        "EPS_END = 0.05     #EPS_END is the final value of epsilon\n",
        "EPS_DECAY = 1000   #EPS_DECAY controls the rate of exponential decay of epsilon, higher means a slower decay\n",
        "TAU = 0.005        #AU is the update rate of the target network\n",
        "LR = 1e-4          #LR is the learning rate of the ``AdamW`` optimizer\n",
        "\n",
        "#Get number of actions from gym action space\n",
        "n_actions = env.action_space.n\n",
        "#Get the number of state observations\n",
        "state, info = env.reset()\n",
        "n_observations = len(state)\n",
        "\n",
        "#Initialize the policy and target networks\n",
        "policy_net = DQN(n_observations, n_actions).to(device)\n",
        "target_net = DQN(n_observations, n_actions).to(device)\n",
        "\n",
        "#Copy the weights from the policy network to the target network\n",
        "target_net.load_state_dict(policy_net.state_dict())\n",
        "\n",
        "#Set up the optimizer with the AdamW algorithm\n",
        "optimizer = optim.AdamW(policy_net.parameters(), lr=LR, amsgrad=True)\n",
        "\n",
        "#Create a replay memory buffer with a capacity of 10,000 transitions\n",
        "memory = ReplayMemory(10000)\n",
        "\n",
        "\n",
        "steps_done = 0\n",
        "\n",
        "#Function to select an action based on epsilon-greedy policy\n",
        "def select_action(state):\n",
        "    global steps_done\n",
        "    sample = random.random()\n",
        "\n",
        "    #Calculate the current threshold for epsilon (decaying over time)\n",
        "    eps_threshold = EPS_END + (EPS_START - EPS_END) * \\\n",
        "        math.exp(-1. * steps_done / EPS_DECAY)\n",
        "    steps_done += 1\n",
        "    if sample > eps_threshold:\n",
        "        with torch.no_grad():\n",
        "            #Return the action with the highest expected reward\n",
        "            return policy_net(state).max(1).indices.view(1, 1)\n",
        "    else:\n",
        "        return torch.tensor([[env.action_space.sample()]], device=device, dtype=torch.long)\n",
        "\n",
        "\n",
        "episode_durations = []\n",
        "\n",
        "#Function to plot the duration of episodes\n",
        "def plot_durations(show_result=False):\n",
        "    plt.figure(1)\n",
        "    durations_t = torch.tensor(episode_durations, dtype=torch.float)\n",
        "    if show_result:\n",
        "        plt.title('Result')\n",
        "    else:\n",
        "        plt.clf()\n",
        "        plt.title('Training...')\n",
        "    plt.xlabel('Episode')\n",
        "    plt.ylabel('Duration')\n",
        "    plt.plot(durations_t.numpy())\n",
        "    # Take 100 episode averages and plot them too\n",
        "    if len(durations_t) >= 100:\n",
        "        means = durations_t.unfold(0, 100, 1).mean(1).view(-1)\n",
        "        means = torch.cat((torch.zeros(99), means))\n",
        "        plt.plot(means.numpy())\n",
        "\n",
        "    plt.pause(0.001)  # pause a bit so that plots are updated\n",
        "    if is_ipython:\n",
        "        if not show_result:\n",
        "            display.display(plt.gcf())\n",
        "            display.clear_output(wait=True)\n",
        "        else:\n",
        "            display.display(plt.gcf())"
      ]
    },
    {
      "cell_type": "code",
      "execution_count": 15,
      "metadata": {
        "id": "Ek48jRNjpI4f"
      },
      "outputs": [],
      "source": [
        "def optimize_model():\n",
        "    if len(memory) < BATCH_SIZE:\n",
        "        return\n",
        "    #Sample a batch of transitions from the replay memory\n",
        "    transitions = memory.sample(BATCH_SIZE)\n",
        "\n",
        "    #Convert the batch of sampled transitions into a Transition object\n",
        "    batch = Transition(*zip(*transitions))\n",
        "\n",
        "    #Create a mask to filter out final states (where next_state is None)\n",
        "    non_final_mask = torch.tensor(tuple(map(lambda s: s is not None,\n",
        "                                          batch.next_state)), device=device, dtype=torch.bool)\n",
        "    #Concatenate the non-final next states into a single tensor\n",
        "    non_final_next_states = torch.cat([s for s in batch.next_state\n",
        "                                                if s is not None])\n",
        "    #Concatenate state, action, and reward tensors into batches\n",
        "    state_batch = torch.cat(batch.state)\n",
        "    action_batch = torch.cat(batch.action)\n",
        "    reward_batch = torch.cat(batch.reward)\n",
        "\n",
        "    #Compute Q(s, a) using the policy network for the given state-action pairs\n",
        "    state_action_values = policy_net(state_batch).gather(1, action_batch)\n",
        "\n",
        "    #Compute the maximum Q-value for the next states using the target network\n",
        "    next_state_values = torch.zeros(BATCH_SIZE, device=device)\n",
        "    with torch.no_grad():\n",
        "        next_state_values[non_final_mask] = target_net(non_final_next_states).max(1).values\n",
        "    #Compute the expected Q-values using the Bellman equation\n",
        "    expected_state_action_values = (next_state_values * GAMMA) + reward_batch\n",
        "\n",
        "    #Compute Huber loss\n",
        "    criterion = nn.SmoothL1Loss()\n",
        "    loss = criterion(state_action_values, expected_state_action_values.unsqueeze(1))\n",
        "\n",
        "    #Optimize the model\n",
        "    optimizer.zero_grad()\n",
        "    loss.backward()\n",
        "\n",
        "    #Clip gradients to prevent large updates\n",
        "    torch.nn.utils.clip_grad_value_(policy_net.parameters(), 100)\n",
        "\n",
        "    #Perform a single optimization step (parameter update)\n",
        "    optimizer.step()"
      ]
    },
    {
      "cell_type": "code",
      "execution_count": null,
      "metadata": {
        "id": "YRpjVj-f1iX_"
      },
      "outputs": [],
      "source": [
        "if torch.cuda.is_available() or torch.backends.mps.is_available():\n",
        "    num_episodes = 600\n",
        "else:\n",
        "    num_episodes = 50\n",
        "\n",
        "for i_episode in range(num_episodes):\n",
        "    #Initialize the environment and get its state\n",
        "    state, info = env.reset()\n",
        "    state = torch.tensor(state, dtype=torch.float32, device=device).unsqueeze(0)\n",
        "    for t in count():\n",
        "        #Select an action based on the current state\n",
        "        action = select_action(state)\n",
        "        #Take the selected action in the environment\n",
        "        observation, reward, terminated, truncated, _ = env.step(action.item())\n",
        "        #Convert reward to a tensor and set up termination flags\n",
        "        reward = torch.tensor([reward], device=device)\n",
        "        done = terminated or truncated\n",
        "\n",
        "        #Define the next state or set it to None if the episode is done\n",
        "        if terminated:\n",
        "            next_state = None\n",
        "        else:\n",
        "            next_state = torch.tensor(observation, dtype=torch.float32, device=device).unsqueeze(0)\n",
        "\n",
        "        #Store the transition in memory\n",
        "        memory.push(state, action, next_state, reward)\n",
        "\n",
        "        #Move to the next state\n",
        "        state = next_state\n",
        "\n",
        "        #Perform one step of the optimization (on the policy network)\n",
        "        optimize_model()\n",
        "\n",
        "        #Update the target network weights using a soft update strateg\n",
        "        target_net_state_dict = target_net.state_dict()\n",
        "        policy_net_state_dict = policy_net.state_dict()\n",
        "        for key in policy_net_state_dict:\n",
        "            target_net_state_dict[key] = policy_net_state_dict[key]*TAU + target_net_state_dict[key]*(1-TAU)\n",
        "        target_net.load_state_dict(target_net_state_dict)\n",
        "\n",
        "        if done:\n",
        "            episode_durations.append(t + 1)\n",
        "            plot_durations()\n",
        "            break\n",
        "\n",
        "print('Complete')\n",
        "plot_durations(show_result=True)\n",
        "plt.ioff()\n",
        "plt.show()"
      ]
    },
    {
      "cell_type": "markdown",
      "metadata": {
        "id": "WoGGMDQ5RU8J"
      },
      "source": [
        "# Final Report"
      ]
    },
    {
      "cell_type": "markdown",
      "metadata": {
        "id": "g8kgewPYQTCA"
      },
      "source": [
        "![DQN_CartPole.png](data:image/png;base64,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)\n",
        "\\\n",
        "**Figure 1. DQN in CartPole**"
      ]
    },
    {
      "cell_type": "markdown",
      "metadata": {
        "id": "Ta36Ku2IRWDt"
      },
      "source": [
        "**1. Visualize and Compare Performance**\n",
        "\n",
        "\n",
        "*   **CartPole:**\n",
        "  *   **In Figure 1:**\n",
        "      *   DQN performs excellently in the CartPole environment.\n",
        "      *   Around episode 300, the performance is unstable, but by episodes 500 to 600, the reward curve steepens.\n",
        "      *   This improvement is likely due to DQN using past experience (experience replay), making it better at predicting optimal actions.\n",
        "      *   Since CartPole is a discrete action space task and DQN is a discrete algorithm, this makes DQN highly suitable for CartPole.\n",
        "\n",
        "\n",
        "\n",
        "\n",
        "\n",
        "\n",
        "\n"
      ]
    },
    {
      "cell_type": "markdown",
      "metadata": {
        "id": "xA8LYPcaRe-X"
      },
      "source": [
        "**2. Data Efficiency**\n",
        "\n",
        "*   **Data Efficiency**\n",
        "    *   DQN is a discrete algorithm, which means it can use experiences gathered from past episodes and store them in a replay buffer to update its Q-values. As you can see in Figure 1, the performance starts low but rapidly improves as the model gets better at predicting the optimal actions for given states. DQN is generally more sample-efficient because it uses experience replay, which allows it to recycle and learn from old transitions multiple times. This reuse of data makes DQN capable of extracting more learning from fewer episodes. DQN's data efficiency is one of its strong suits, but it comes with the downside of being more challenging to stabilize, especially in environments with large state spaces or continuous actions.\n",
        "\n",
        "\n",
        "\n",
        "\n",
        "\n",
        "\n",
        "\n",
        "\n"
      ]
    },
    {
      "cell_type": "markdown",
      "metadata": {
        "id": "sR_Ay6hnNzbC"
      },
      "source": [
        "**3. Strength and Weakness of the algorithm**\n",
        "\n",
        "  *   **Strength:** High data efficiency, especially in discrete action environments.\n",
        "  *   **Weakness:** Can be unstable\n"
      ]
    },
    {
      "cell_type": "markdown",
      "metadata": {
        "id": "gQtUaHfPfqim"
      },
      "source": [
        "**4. Summary and Reflection**\n",
        "\n",
        "\n",
        "*   **DQN** is effective in **discrete action spaces** and offers faster learning when **data efficiency** is critical. However, it can **struggle with stability**, especially in complex or continuous environments.\n",
        "\n",
        "*    In the future, I plan to do experiment with **modifying** other parameters, such as the **learning rate** and **update rate**, to determine whether these adjustments can **enhance the algorithms' performance**. Additionally, if needed once some parameters changed, I plan to **increase the number of episodes** to see if the performance improves with extended training. \n",
        "\n",
        "\n",
        "\n",
        "\n",
        "\n"
      ]
    }
  ],
  "metadata": {
    "accelerator": "GPU",
    "colab": {
      "gpuType": "T4",
      "provenance": []
    },
    "kernelspec": {
      "display_name": "Python 3",
      "name": "python3"
    },
    "language_info": {
      "name": "python"
    }
  },
  "nbformat": 4,
  "nbformat_minor": 0
}
